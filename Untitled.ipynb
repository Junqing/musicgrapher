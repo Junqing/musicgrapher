{
 "cells": [
  {
   "cell_type": "code",
   "execution_count": 5,
   "metadata": {},
   "outputs": [],
   "source": [
    "from rovi_api import AllMusicGuide\n",
    "import boto3\n",
    "import json\n",
    "s3client = boto3.client('s3')"
   ]
  },
  {
   "cell_type": "code",
   "execution_count": 6,
   "metadata": {},
   "outputs": [
    {
     "name": "stdout",
     "output_type": "stream",
     "text": [
      "http://api.rovicorp.com/search/v2.1/music/search?apikey=jtskvfmndszdurpt49z8mdv8&sig=8cbd58f82a1587709463ec328fec77f1&query=Eric%2BClapton&entitytype=artist&size=1&include=all&format=json\n"
     ]
    }
   ],
   "source": [
    "data = json.loads(AllMusicGuide().get({'query':'Eric+Clapton','entitytype':'artist','size':'1','include':'all','format':'json'}))"
   ]
  },
  {
   "cell_type": "code",
   "execution_count": 13,
   "metadata": {},
   "outputs": [],
   "source": [
    "def put_object_s3(bucketname, key, data):\n",
    "    s3 = boto3.resource('s3')\n",
    "    s3object = s3.Object(bucketname, key)\n",
    "    s3object.put(Body=json.dumps(data))\n",
    "    return True"
   ]
  },
  {
   "cell_type": "code",
   "execution_count": 14,
   "metadata": {},
   "outputs": [
    {
     "data": {
      "text/plain": [
       "True"
      ]
     },
     "execution_count": 14,
     "metadata": {},
     "output_type": "execute_result"
    }
   ],
   "source": [
    "put_object_s3(\"musicgrapher\", \"test.json\", data)"
   ]
  },
  {
   "cell_type": "code",
   "execution_count": 17,
   "metadata": {},
   "outputs": [],
   "source": [
    "result = data['searchResponse']['results'][0]"
   ]
  },
  {
   "cell_type": "code",
   "execution_count": 18,
   "metadata": {},
   "outputs": [
    {
     "data": {
      "text/plain": [
       "dict_keys(['type', 'relevance', 'id', 'messages', 'name'])"
      ]
     },
     "execution_count": 18,
     "metadata": {},
     "output_type": "execute_result"
    }
   ],
   "source": [
    "result.keys()"
   ]
  },
  {
   "cell_type": "code",
   "execution_count": 19,
   "metadata": {},
   "outputs": [
    {
     "data": {
      "text/plain": [
       "'artist'"
      ]
     },
     "execution_count": 19,
     "metadata": {},
     "output_type": "execute_result"
    }
   ],
   "source": [
    "result['type']"
   ]
  },
  {
   "cell_type": "code",
   "execution_count": 20,
   "metadata": {},
   "outputs": [
    {
     "data": {
      "text/plain": [
       "[{'code': 'Score', 'value': 2.821657}]"
      ]
     },
     "execution_count": 20,
     "metadata": {},
     "output_type": "execute_result"
    }
   ],
   "source": [
    "result['relevance']"
   ]
  },
  {
   "cell_type": "code",
   "execution_count": 22,
   "metadata": {},
   "outputs": [
    {
     "data": {
      "text/plain": [
       "'MN0000187478'"
      ]
     },
     "execution_count": 22,
     "metadata": {},
     "output_type": "execute_result"
    }
   ],
   "source": [
    "result['id']"
   ]
  },
  {
   "cell_type": "code",
   "execution_count": 36,
   "metadata": {},
   "outputs": [],
   "source": []
  },
  {
   "cell_type": "code",
   "execution_count": 34,
   "metadata": {},
   "outputs": [],
   "source": [
    "def getRelevance(data):\n",
    "    return data['searchResponse']['results'][0]['relevance']"
   ]
  },
  {
   "cell_type": "code",
   "execution_count": 35,
   "metadata": {},
   "outputs": [
    {
     "data": {
      "text/plain": [
       "[{'code': 'Score', 'value': 2.821657}]"
      ]
     },
     "execution_count": 35,
     "metadata": {},
     "output_type": "execute_result"
    }
   ],
   "source": [
    "getRelevance(data)"
   ]
  },
  {
   "cell_type": "code",
   "execution_count": 37,
   "metadata": {},
   "outputs": [],
   "source": [
    "metaresult = result['name']"
   ]
  },
  {
   "cell_type": "code",
   "execution_count": 38,
   "metadata": {},
   "outputs": [
    {
     "data": {
      "text/plain": [
       "dict_keys(['ids', 'name', 'isGroup', 'primaryMedia', 'musicGenres', 'movieGenres', 'active', 'birth', 'death', 'country', 'period', 'headlineBio', 'classicalBio', 'classicalBioUri', 'discography', 'discographyUri', 'filmography', 'filmographyUri', 'followers', 'followersUri', 'groupMembers', 'groupMembersUri', 'memberOf', 'memberOfUri', 'images', 'imagesUri', 'influencers', 'influencersUri', 'similars', 'similarsUri', 'moods', 'moodsUri', 'movieBio', 'movieBioUri', 'musicBio', 'musicBioUri', 'musicCredits', 'musicCreditsUri', 'songs', 'songsUri', 'musicStyles', 'musicStylesUri', 'themes', 'themesUri', 'videos', 'videosUri', 'movieStyles', 'movieStylesUri', 'contemporaries', 'contemporariesUri', 'associatedWith', 'associatedWithUri', 'collaboratorWith', 'collaboratorWithUri', 'compositions', 'compositionsUri', 'aliases', 'aliasesUri', 'web', 'webUri', 'factsheets', 'factsheetsUri', 'schedule', 'scheduleUri', 'credits', 'creditsUri'])"
      ]
     },
     "execution_count": 38,
     "metadata": {},
     "output_type": "execute_result"
    }
   ],
   "source": [
    "metaresult.keys()"
   ]
  },
  {
   "cell_type": "code",
   "execution_count": 44,
   "metadata": {},
   "outputs": [
    {
     "data": {
      "text/plain": [
       "['1960s', '1970s', '1980s', '1990s', '2000s', '2010s']"
      ]
     },
     "execution_count": 44,
     "metadata": {},
     "output_type": "execute_result"
    }
   ],
   "source": [
    "metaresult['active']"
   ]
  },
  {
   "cell_type": "code",
   "execution_count": null,
   "metadata": {},
   "outputs": [],
   "source": []
  }
 ],
 "metadata": {
  "kernelspec": {
   "display_name": "Python 3",
   "language": "python",
   "name": "python3"
  },
  "language_info": {
   "codemirror_mode": {
    "name": "ipython",
    "version": 3
   },
   "file_extension": ".py",
   "mimetype": "text/x-python",
   "name": "python",
   "nbconvert_exporter": "python",
   "pygments_lexer": "ipython3",
   "version": "3.6.5"
  }
 },
 "nbformat": 4,
 "nbformat_minor": 2
}
